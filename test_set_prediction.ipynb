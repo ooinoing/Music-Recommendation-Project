{
  "nbformat": 4,
  "nbformat_minor": 0,
  "metadata": {
    "colab": {
      "provenance": []
    },
    "kernelspec": {
      "name": "python3",
      "display_name": "Python 3"
    },
    "language_info": {
      "name": "python"
    }
  },
  "cells": [
    {
      "cell_type": "markdown",
      "source": [
        "# Data Preparation & Function Generation"
      ],
      "metadata": {
        "id": "2VaqHlMF2rDx"
      }
    },
    {
      "cell_type": "code",
      "source": [
        "from google.colab import drive\n",
        "drive.mount('/content/drive')"
      ],
      "metadata": {
        "colab": {
          "base_uri": "https://localhost:8080/"
        },
        "id": "Shyl7r1j2LuV",
        "outputId": "79e50f29-263f-4715-ac65-922fc153879e"
      },
      "execution_count": null,
      "outputs": [
        {
          "output_type": "stream",
          "name": "stdout",
          "text": [
            "Mounted at /content/drive\n"
          ]
        }
      ]
    },
    {
      "cell_type": "code",
      "execution_count": null,
      "metadata": {
        "id": "ECg7QbpP2COm"
      },
      "outputs": [],
      "source": [
        "# Import Libraries\n",
        "import warnings\n",
        "warnings.filterwarnings('ignore')\n",
        "import time\n",
        "import numpy as np\n",
        "import pandas as pd\n",
        "pd.options.display.float_format = '{:.2f}'.format\n",
        "import matplotlib.pyplot as plt\n",
        "import seaborn as sns\n",
        "import sklearn\n",
        "#모델 라이브러리 가져오기 \n",
        "import itertools\n",
        "from sklearn.model_selection import train_test_split\n",
        "from sklearn.metrics import confusion_matrix\n",
        "from keras import Sequential\n",
        "from keras.preprocessing.image import ImageDataGenerator\n",
        "from keras.callbacks import ReduceLROnPlateau\n",
        "from keras.layers import Flatten,Dense,BatchNormalization,Activation,Dropout\n",
        "import tensorflow as tf\n",
        "from tensorflow.keras import layers\n",
        "from keras.preprocessing.image import ImageDataGenerator\n",
        "import keras\n",
        "from keras.preprocessing.image import ImageDataGenerator\n",
        "from sklearn.metrics import accuracy_score, classification_report\n",
        "from tensorflow.keras.models import load_model\n",
        "from sklearn.metrics import confusion_matrix, roc_auc_score, auc\n",
        "import seaborn as sns"
      ]
    },
    {
      "cell_type": "code",
      "source": [
        "X_test = np.load('/content/drive/Shareddrives/2022-1 KUBIG 음악추천시스템/melspectogram_test_set.npy')\n",
        "X_test.shape\n",
        "\n",
        "X_test= np.concatenate([X_test[0:30], X_test[60:]])"
      ],
      "metadata": {
        "id": "jJDLUkKq2PLL"
      },
      "execution_count": null,
      "outputs": []
    },
    {
      "cell_type": "code",
      "source": [
        "target = []\n",
        "for i in range(30):\n",
        "  target.append(0)\n",
        "for i in range(30):\n",
        "  target.append(1)\n",
        "for i in range(30):\n",
        "  target.append(2)\n",
        "for i in range(30):\n",
        "  target.append(3)\n"
      ],
      "metadata": {
        "id": "wU3gDXyP2fEo"
      },
      "execution_count": null,
      "outputs": []
    },
    {
      "cell_type": "code",
      "source": [
        "y_test = np.array(target)"
      ],
      "metadata": {
        "id": "wkdDnTOm2fHL"
      },
      "execution_count": null,
      "outputs": []
    },
    {
      "cell_type": "code",
      "source": [
        "import cv2\n",
        "cv2.resize(X_test[0], (256, 256), interpolation = cv2.INTER_LANCZOS4).shape\n",
        "\n",
        "\n",
        "from sklearn.preprocessing import StandardScaler\n",
        "\n",
        "new = []\n",
        "for i in range(120):\n",
        "  scaler = StandardScaler()\n",
        "  temp = scaler.fit_transform(X_test[i])\n",
        "  new.append(cv2.resize(temp, (256, 256), interpolation = cv2.INTER_LANCZOS4))"
      ],
      "metadata": {
        "id": "qbWOGyAj3HKP"
      },
      "execution_count": null,
      "outputs": []
    },
    {
      "cell_type": "code",
      "source": [
        "new2 = []\n",
        "for i in range(120):\n",
        "  new2.append(np.array([new[i], new[i], new[i]]))"
      ],
      "metadata": {
        "id": "3qENsvDz3VO5"
      },
      "execution_count": null,
      "outputs": []
    },
    {
      "cell_type": "code",
      "source": [
        "X_test = np.array(new2)\n",
        "X_test.shape"
      ],
      "metadata": {
        "colab": {
          "base_uri": "https://localhost:8080/"
        },
        "id": "2qL_rP8l3jaM",
        "outputId": "44ea3e09-476e-4c02-d3ad-c5419679a42a"
      },
      "execution_count": null,
      "outputs": [
        {
          "output_type": "execute_result",
          "data": {
            "text/plain": [
              "(120, 3, 256, 256)"
            ]
          },
          "metadata": {},
          "execution_count": 8
        }
      ]
    },
    {
      "cell_type": "code",
      "source": [
        "X_test = np.swapaxes(np.swapaxes(X_test, 1, 2), 2, 3)"
      ],
      "metadata": {
        "id": "zXarzW1i3VR_"
      },
      "execution_count": null,
      "outputs": []
    },
    {
      "cell_type": "code",
      "source": [
        "X_test.shape"
      ],
      "metadata": {
        "colab": {
          "base_uri": "https://localhost:8080/"
        },
        "id": "hpunTgok4kjl",
        "outputId": "15f4827f-11a6-4b78-98df-a4c471d3f4f6"
      },
      "execution_count": null,
      "outputs": [
        {
          "output_type": "execute_result",
          "data": {
            "text/plain": [
              "(120, 256, 256, 3)"
            ]
          },
          "metadata": {},
          "execution_count": 10
        }
      ]
    },
    {
      "cell_type": "code",
      "source": [
        "def calculate_tpr_fpr(y_real, y_pred):\n",
        "    '''\n",
        "    Calculates the True Positive Rate (tpr) and the True Negative Rate (fpr) based on real and predicted observations\n",
        "    \n",
        "    Args:\n",
        "        y_real: The list or series with the real classes\n",
        "        y_pred: The list or series with the predicted classes\n",
        "        \n",
        "    Returns:\n",
        "        tpr: The True Positive Rate of the classifier\n",
        "        fpr: The False Positive Rate of the classifier\n",
        "    '''\n",
        "    \n",
        "    # Calculates the confusion matrix and recover each element\n",
        "    cm = confusion_matrix(y_real, y_pred)\n",
        "    TN = cm[0, 0]\n",
        "    FP = cm[0, 1]\n",
        "    FN = cm[1, 0]\n",
        "    TP = cm[1, 1]\n",
        "    \n",
        "    # Calculates tpr and fpr\n",
        "    tpr =  TP/(TP + FN) # sensitivity - true positive rate\n",
        "    fpr = 1 - TN/(TN+FP) # 1-specificity - false positive rate\n",
        "    \n",
        "    return tpr, fpr"
      ],
      "metadata": {
        "id": "ICXbrsRq5luz"
      },
      "execution_count": null,
      "outputs": []
    },
    {
      "cell_type": "code",
      "source": [
        "def get_all_roc_coordinates(y_real, y_proba):\n",
        "    '''\n",
        "    Calculates all the ROC Curve coordinates (tpr and fpr) by considering each point as a treshold for the predicion of the class.\n",
        "    \n",
        "    Args:\n",
        "        y_real: The list or series with the real classes.\n",
        "        y_proba: The array with the probabilities for each class, obtained by using the `.predict_proba()` method.\n",
        "        \n",
        "    Returns:\n",
        "        tpr_list: The list of TPRs representing each threshold.\n",
        "        fpr_list: The list of FPRs representing each threshold.\n",
        "    '''\n",
        "    tpr_list = [0]\n",
        "    fpr_list = [0]\n",
        "    for i in range(len(y_proba)):\n",
        "        threshold = y_proba[i]\n",
        "        y_pred = y_proba >= threshold\n",
        "        tpr, fpr = calculate_tpr_fpr(y_real, y_pred)\n",
        "        tpr_list.append(tpr)\n",
        "        fpr_list.append(fpr)\n",
        "    return tpr_list, fpr_list"
      ],
      "metadata": {
        "id": "_VKf-4lc5uRL"
      },
      "execution_count": null,
      "outputs": []
    },
    {
      "cell_type": "code",
      "source": [
        "def plot_roc_curve_red(tpr, fpr, scatter = True, ax = None):\n",
        "    '''\n",
        "    Plots the ROC Curve by using the list of coordinates (tpr and fpr).\n",
        "    \n",
        "    Args:\n",
        "        tpr: The list of TPRs representing each coordinate.\n",
        "        fpr: The list of FPRs representing each coordinate.\n",
        "        scatter: When True, the points used on the calculation will be plotted with the line (default = True).\n",
        "    '''\n",
        "    if ax == None:\n",
        "        plt.figure(figsize = (5, 5))\n",
        "        ax = plt.axes()\n",
        "    \n",
        "    if scatter:\n",
        "        sns.scatterplot(x = fpr, y = tpr, ax = ax)\n",
        "    sns.lineplot(x = fpr, y = tpr, ax = ax, ci=None, color='red', alpha = 0.08)\n",
        "    sns.lineplot(x = [0, 1], y = [0, 1], color = 'black', ax = ax, alpha = 0.05, linestyle='--')\n",
        "    plt.xlim(-0.05, 1.05)\n",
        "    plt.ylim(-0.05, 1.05)\n",
        "    plt.xlabel(\"False Positive Rate\")\n",
        "    plt.ylabel(\"True Positive Rate\")"
      ],
      "metadata": {
        "id": "AZaz74Gj9vuE"
      },
      "execution_count": null,
      "outputs": []
    },
    {
      "cell_type": "code",
      "source": [
        "def plot_roc_curve_red_2(tpr, fpr, scatter = True, ax = None):\n",
        "    '''\n",
        "    Plots the ROC Curve by using the list of coordinates (tpr and fpr).\n",
        "    \n",
        "    Args:\n",
        "        tpr: The list of TPRs representing each coordinate.\n",
        "        fpr: The list of FPRs representing each coordinate.\n",
        "        scatter: When True, the points used on the calculation will be plotted with the line (default = True).\n",
        "    '''\n",
        "    if ax == None:\n",
        "        plt.figure(figsize = (5, 5))\n",
        "        ax = plt.axes()\n",
        "    \n",
        "    if scatter:\n",
        "        sns.scatterplot(x = fpr, y = tpr, ax = ax)\n",
        "    sns.lineplot(x = fpr, y = tpr, ax = ax, ci=None, color='red', alpha = 1)\n",
        "    plt.xlim(-0.05, 1.05)\n",
        "    plt.ylim(-0.05, 1.05)\n",
        "    plt.xlabel(\"False Positive Rate\")\n",
        "    plt.ylabel(\"True Positive Rate\")"
      ],
      "metadata": {
        "id": "cNA49ZuH-oDf"
      },
      "execution_count": null,
      "outputs": []
    },
    {
      "cell_type": "code",
      "source": [
        "classes = [0, 1, 2, 3]\n",
        "classes_names = ['Hip hop', 'Trot', 'Ballad', 'Rock']"
      ],
      "metadata": {
        "id": "1YnikOXr86jx"
      },
      "execution_count": null,
      "outputs": []
    },
    {
      "cell_type": "markdown",
      "source": [
        "# Resnet50(05/18) - 800 train set"
      ],
      "metadata": {
        "id": "5iy66EWJ2uJ5"
      }
    },
    {
      "cell_type": "code",
      "source": [
        "testpred = []\n",
        "testprob = []\n",
        "for i in range(0, 5):\n",
        "  resnet50 = load_model('/content/drive/MyDrive/musicrecommendation_resent50{zero}.h5'.format(zero = i))\n",
        "  prob = resnet50.predict(X_test)\n",
        "  testprob.append(prob)\n",
        "  pred = np.argmax(prob, axis = 1)\n",
        "  testpred.append(pred)\n",
        "  "
      ],
      "metadata": {
        "id": "fpcWYqX42fO7"
      },
      "execution_count": null,
      "outputs": []
    },
    {
      "cell_type": "code",
      "source": [
        "testpred"
      ],
      "metadata": {
        "colab": {
          "base_uri": "https://localhost:8080/"
        },
        "id": "xKxdCLEN8IEq",
        "outputId": "4801b20f-fb8e-411b-c190-9364dbc687de"
      },
      "execution_count": null,
      "outputs": [
        {
          "output_type": "execute_result",
          "data": {
            "text/plain": [
              "[array([0, 0, 0, 0, 0, 4, 0, 3, 3, 0, 1, 0, 0, 0, 4, 0, 0, 4, 0, 0, 0, 4,\n",
              "        0, 0, 0, 4, 0, 3, 0, 0, 4, 4, 1, 2, 0, 0, 4, 1, 4, 0, 1, 1, 1, 1,\n",
              "        0, 4, 1, 2, 1, 0, 0, 3, 4, 0, 0, 0, 1, 0, 0, 1, 0, 2, 2, 2, 2, 2,\n",
              "        1, 2, 3, 2, 4, 2, 2, 2, 2, 3, 0, 4, 3, 3, 3, 2, 1, 3, 3, 2, 2, 2,\n",
              "        2, 2, 3, 3, 3, 3, 4, 3, 4, 3, 3, 3, 3, 3, 3, 3, 3, 3, 3, 3, 3, 3,\n",
              "        3, 3, 3, 3, 4, 3, 3, 3, 4, 3, 4, 4, 4, 0, 4, 4, 4, 3, 4, 2, 2, 4,\n",
              "        0, 2, 4, 2, 2, 3, 2, 3, 0, 4, 4, 3, 3, 4, 4, 1, 0, 4]),\n",
              " array([0, 0, 0, 0, 0, 4, 0, 3, 3, 0, 1, 0, 0, 0, 4, 0, 0, 4, 0, 0, 0, 4,\n",
              "        0, 0, 0, 4, 0, 3, 0, 0, 4, 4, 1, 4, 0, 0, 4, 1, 4, 0, 1, 1, 1, 1,\n",
              "        0, 4, 1, 2, 1, 0, 0, 3, 4, 0, 0, 0, 1, 0, 0, 1, 0, 2, 2, 2, 2, 2,\n",
              "        1, 2, 3, 2, 4, 2, 2, 2, 2, 3, 0, 4, 3, 3, 3, 2, 1, 3, 3, 2, 2, 2,\n",
              "        2, 2, 3, 3, 3, 3, 4, 3, 4, 3, 3, 3, 3, 3, 3, 3, 3, 3, 3, 3, 3, 3,\n",
              "        3, 3, 3, 3, 4, 3, 3, 3, 4, 3, 4, 4, 4, 0, 4, 4, 4, 3, 4, 2, 2, 4,\n",
              "        0, 2, 4, 2, 2, 3, 2, 3, 0, 4, 4, 3, 3, 4, 4, 1, 0, 4]),\n",
              " array([0, 0, 0, 0, 0, 4, 0, 3, 3, 0, 1, 0, 0, 0, 4, 0, 0, 4, 0, 0, 0, 4,\n",
              "        0, 0, 0, 4, 0, 3, 0, 0, 4, 4, 1, 4, 0, 0, 4, 1, 4, 0, 1, 1, 1, 1,\n",
              "        0, 4, 1, 2, 1, 0, 0, 3, 4, 0, 0, 0, 1, 0, 0, 1, 0, 2, 2, 2, 2, 2,\n",
              "        1, 2, 3, 2, 4, 2, 2, 2, 2, 3, 0, 4, 3, 3, 3, 2, 1, 3, 3, 2, 2, 2,\n",
              "        2, 2, 3, 3, 3, 3, 4, 3, 4, 3, 3, 3, 3, 3, 3, 3, 3, 3, 3, 3, 3, 3,\n",
              "        3, 3, 3, 3, 4, 3, 4, 3, 4, 3, 4, 4, 4, 0, 4, 4, 4, 3, 4, 2, 2, 4,\n",
              "        0, 2, 4, 2, 4, 3, 2, 3, 0, 4, 4, 3, 3, 4, 4, 1, 0, 4]),\n",
              " array([0, 0, 0, 0, 0, 4, 0, 3, 3, 0, 1, 0, 0, 0, 4, 0, 0, 4, 0, 0, 0, 4,\n",
              "        0, 0, 0, 4, 0, 3, 0, 0, 4, 4, 1, 4, 0, 0, 4, 1, 4, 0, 1, 1, 1, 1,\n",
              "        0, 4, 1, 2, 1, 0, 0, 3, 4, 0, 0, 0, 1, 0, 0, 1, 0, 2, 2, 2, 2, 2,\n",
              "        1, 2, 3, 2, 4, 2, 2, 2, 2, 3, 0, 4, 3, 3, 3, 2, 1, 3, 3, 2, 2, 2,\n",
              "        2, 2, 3, 3, 3, 3, 4, 3, 4, 3, 3, 3, 3, 3, 3, 3, 3, 3, 3, 3, 3, 3,\n",
              "        3, 3, 3, 3, 4, 3, 4, 3, 4, 3, 4, 4, 4, 0, 4, 4, 4, 3, 4, 2, 2, 4,\n",
              "        0, 2, 4, 2, 4, 3, 2, 3, 0, 4, 4, 3, 3, 4, 4, 1, 0, 4]),\n",
              " array([0, 0, 0, 0, 0, 4, 0, 3, 3, 0, 1, 0, 0, 0, 4, 0, 0, 4, 0, 0, 0, 4,\n",
              "        0, 0, 0, 4, 0, 3, 0, 0, 4, 4, 1, 4, 0, 0, 4, 1, 4, 0, 1, 1, 1, 1,\n",
              "        0, 4, 1, 2, 1, 0, 0, 3, 4, 0, 0, 0, 1, 0, 0, 1, 0, 2, 2, 2, 2, 2,\n",
              "        1, 2, 3, 2, 4, 2, 2, 2, 2, 3, 0, 4, 3, 3, 3, 2, 1, 3, 3, 2, 2, 2,\n",
              "        2, 2, 3, 3, 3, 3, 4, 3, 4, 3, 3, 3, 3, 3, 3, 3, 3, 3, 3, 3, 3, 3,\n",
              "        3, 3, 3, 3, 4, 3, 4, 3, 4, 3, 4, 4, 4, 0, 4, 4, 4, 3, 4, 2, 2, 4,\n",
              "        0, 2, 4, 2, 4, 3, 2, 3, 0, 4, 4, 3, 3, 4, 4, 1, 0, 4])]"
            ]
          },
          "metadata": {},
          "execution_count": 54
        }
      ]
    },
    {
      "cell_type": "code",
      "source": [
        "for i in range(5):\n",
        "  sum = 0\n",
        "  sum_list = []\n",
        "  for j in range(len(testpred[i])):\n",
        "    if testpred[i][j] == y_test[j]:\n",
        "      sum = sum + 1\n",
        "  print(sum / len(testpred[1]) * 100)\n",
        "  sum_list.append(sum / len(testpred[1]) * 100)"
      ],
      "metadata": {
        "colab": {
          "base_uri": "https://localhost:8080/",
          "height": 248
        },
        "id": "lRMmFMPpBkpF",
        "outputId": "ff2226d7-6628-4d90-f724-6f08acfb10a0"
      },
      "execution_count": null,
      "outputs": [
        {
          "output_type": "error",
          "ename": "IndexError",
          "evalue": "ignored",
          "traceback": [
            "\u001b[0;31m---------------------------------------------------------------------------\u001b[0m",
            "\u001b[0;31mIndexError\u001b[0m                                Traceback (most recent call last)",
            "\u001b[0;32m<ipython-input-58-2f2549afea03>\u001b[0m in \u001b[0;36m<module>\u001b[0;34m()\u001b[0m\n\u001b[1;32m      2\u001b[0m   \u001b[0msum\u001b[0m \u001b[0;34m=\u001b[0m \u001b[0;36m0\u001b[0m\u001b[0;34m\u001b[0m\u001b[0;34m\u001b[0m\u001b[0m\n\u001b[1;32m      3\u001b[0m   \u001b[0msum_list\u001b[0m \u001b[0;34m=\u001b[0m \u001b[0;34m[\u001b[0m\u001b[0;34m]\u001b[0m\u001b[0;34m\u001b[0m\u001b[0;34m\u001b[0m\u001b[0m\n\u001b[0;32m----> 4\u001b[0;31m   \u001b[0;32mfor\u001b[0m \u001b[0mj\u001b[0m \u001b[0;32min\u001b[0m \u001b[0mrange\u001b[0m\u001b[0;34m(\u001b[0m\u001b[0mlen\u001b[0m\u001b[0;34m(\u001b[0m\u001b[0mtestpred\u001b[0m\u001b[0;34m[\u001b[0m\u001b[0mi\u001b[0m\u001b[0;34m]\u001b[0m\u001b[0;34m)\u001b[0m\u001b[0;34m)\u001b[0m\u001b[0;34m:\u001b[0m\u001b[0;34m\u001b[0m\u001b[0;34m\u001b[0m\u001b[0m\n\u001b[0m\u001b[1;32m      5\u001b[0m     \u001b[0;32mif\u001b[0m \u001b[0mtestpred\u001b[0m\u001b[0;34m[\u001b[0m\u001b[0mi\u001b[0m\u001b[0;34m]\u001b[0m\u001b[0;34m[\u001b[0m\u001b[0mj\u001b[0m\u001b[0;34m]\u001b[0m \u001b[0;34m==\u001b[0m \u001b[0my_test\u001b[0m\u001b[0;34m[\u001b[0m\u001b[0mj\u001b[0m\u001b[0;34m]\u001b[0m\u001b[0;34m:\u001b[0m\u001b[0;34m\u001b[0m\u001b[0;34m\u001b[0m\u001b[0m\n\u001b[1;32m      6\u001b[0m       \u001b[0msum\u001b[0m \u001b[0;34m=\u001b[0m \u001b[0msum\u001b[0m \u001b[0;34m+\u001b[0m \u001b[0;36m1\u001b[0m\u001b[0;34m\u001b[0m\u001b[0;34m\u001b[0m\u001b[0m\n",
            "\u001b[0;31mIndexError\u001b[0m: list index out of range"
          ]
        }
      ]
    },
    {
      "cell_type": "code",
      "source": [
        "np.mean(sum_list)"
      ],
      "metadata": {
        "colab": {
          "base_uri": "https://localhost:8080/"
        },
        "id": "1-HK5EWyBk0_",
        "outputId": "bafad613-183c-4215-c19a-cc6ee7145fe1"
      },
      "execution_count": null,
      "outputs": [
        {
          "output_type": "execute_result",
          "data": {
            "text/plain": [
              "58.666666666666664"
            ]
          },
          "metadata": {},
          "execution_count": 56
        }
      ]
    },
    {
      "cell_type": "code",
      "source": [
        "plt.figure(figsize = (12, 8))\n",
        "roc_auc_ovr = {}\n",
        "auc = []\n",
        "    \n",
        "for i in range(len(classes)):\n",
        "    \n",
        "    temptpr = []\n",
        "    tempfpr = []\n",
        "    \n",
        "    for j in range(5):\n",
        "\n",
        "        c = classes[i]\n",
        "\n",
        "        df_aux = pd.DataFrame(y_test).copy()\n",
        "        df_aux['class'] = [1 if y == c else 0 for y in y_test]\n",
        "        df_aux['prob'] = np.array(testprob)[j][:, i]\n",
        "        df_aux = df_aux.reset_index(drop = True)\n",
        "\n",
        "        ax_bottom = plt.subplot(2, 3, i+2)\n",
        "        tpr, fpr = get_all_roc_coordinates(df_aux['class'], df_aux['prob'])\n",
        "\n",
        "\n",
        "        temptpr.append(tpr)\n",
        "        tempfpr.append(fpr)\n",
        "        \n",
        "        plot_roc_curve_red(tpr, fpr, scatter = False, ax = ax_bottom)\n",
        "        \n",
        "        \n",
        "        ax_bottom.set_title(f\"ROC Curve OvR: {classes_names[c]} vs. Rest\")\n",
        "\n",
        "        auc.append(roc_auc_score(df_aux['class'], df_aux['prob']))\n",
        "    \n",
        "    temptpr = np.array(temptpr)\n",
        "    tempfpr = np.array(tempfpr)\n",
        "    \n",
        "    num = 9 + i * 10\n",
        "    prev = 9 + (i-1)*10\n",
        "    plot_roc_curve_red_2(np.sort(np.array(pd.DataFrame(temptpr).mean())), np.sort(np.array(pd.DataFrame(tempfpr).mean())), scatter = False, ax = ax_bottom)\n",
        "\n",
        "    plt.tight_layout()"
      ],
      "metadata": {
        "colab": {
          "base_uri": "https://localhost:8080/",
          "height": 507
        },
        "id": "8aBCYvIs8Rdb",
        "outputId": "7c042dc9-9bac-4262-c257-624ef4d4caf3"
      },
      "execution_count": null,
      "outputs": [
        {
          "output_type": "error",
          "ename": "IndexError",
          "evalue": "ignored",
          "traceback": [
            "\u001b[0;31m---------------------------------------------------------------------------\u001b[0m",
            "\u001b[0;31mIndexError\u001b[0m                                Traceback (most recent call last)",
            "\u001b[0;32m<ipython-input-75-73a7350913a7>\u001b[0m in \u001b[0;36m<module>\u001b[0;34m()\u001b[0m\n\u001b[1;32m     14\u001b[0m         \u001b[0mdf_aux\u001b[0m \u001b[0;34m=\u001b[0m \u001b[0mpd\u001b[0m\u001b[0;34m.\u001b[0m\u001b[0mDataFrame\u001b[0m\u001b[0;34m(\u001b[0m\u001b[0my_test\u001b[0m\u001b[0;34m)\u001b[0m\u001b[0;34m.\u001b[0m\u001b[0mcopy\u001b[0m\u001b[0;34m(\u001b[0m\u001b[0;34m)\u001b[0m\u001b[0;34m\u001b[0m\u001b[0;34m\u001b[0m\u001b[0m\n\u001b[1;32m     15\u001b[0m         \u001b[0mdf_aux\u001b[0m\u001b[0;34m[\u001b[0m\u001b[0;34m'class'\u001b[0m\u001b[0;34m]\u001b[0m \u001b[0;34m=\u001b[0m \u001b[0;34m[\u001b[0m\u001b[0;36m1\u001b[0m \u001b[0;32mif\u001b[0m \u001b[0my\u001b[0m \u001b[0;34m==\u001b[0m \u001b[0mc\u001b[0m \u001b[0;32melse\u001b[0m \u001b[0;36m0\u001b[0m \u001b[0;32mfor\u001b[0m \u001b[0my\u001b[0m \u001b[0;32min\u001b[0m \u001b[0my_test\u001b[0m\u001b[0;34m]\u001b[0m\u001b[0;34m\u001b[0m\u001b[0;34m\u001b[0m\u001b[0m\n\u001b[0;32m---> 16\u001b[0;31m         \u001b[0mdf_aux\u001b[0m\u001b[0;34m[\u001b[0m\u001b[0;34m'prob'\u001b[0m\u001b[0;34m]\u001b[0m \u001b[0;34m=\u001b[0m \u001b[0mnp\u001b[0m\u001b[0;34m.\u001b[0m\u001b[0marray\u001b[0m\u001b[0;34m(\u001b[0m\u001b[0mtestprob\u001b[0m\u001b[0;34m)\u001b[0m\u001b[0;34m[\u001b[0m\u001b[0mj\u001b[0m\u001b[0;34m]\u001b[0m\u001b[0;34m[\u001b[0m\u001b[0;34m:\u001b[0m\u001b[0;34m,\u001b[0m \u001b[0mi\u001b[0m\u001b[0;34m]\u001b[0m\u001b[0;34m\u001b[0m\u001b[0;34m\u001b[0m\u001b[0m\n\u001b[0m\u001b[1;32m     17\u001b[0m         \u001b[0mdf_aux\u001b[0m \u001b[0;34m=\u001b[0m \u001b[0mdf_aux\u001b[0m\u001b[0;34m.\u001b[0m\u001b[0mreset_index\u001b[0m\u001b[0;34m(\u001b[0m\u001b[0mdrop\u001b[0m \u001b[0;34m=\u001b[0m \u001b[0;32mTrue\u001b[0m\u001b[0;34m)\u001b[0m\u001b[0;34m\u001b[0m\u001b[0;34m\u001b[0m\u001b[0m\n\u001b[1;32m     18\u001b[0m \u001b[0;34m\u001b[0m\u001b[0m\n",
            "\u001b[0;31mIndexError\u001b[0m: index 1 is out of bounds for axis 0 with size 1"
          ]
        },
        {
          "output_type": "display_data",
          "data": {
            "text/plain": [
              "<Figure size 864x576 with 1 Axes>"
            ],
            "image/png": "[encoded data removed]"
          },
          "metadata": {
            "needs_background": "light"
          }
        }
      ]
    },
    {
      "cell_type": "code",
      "source": [
        "testprob]"
      ],
      "metadata": {
        "colab": {
          "base_uri": "https://localhost:8080/",
          "height": 174
        },
        "id": "S_lRVSks-DtA",
        "outputId": "15c8c2aa-cae0-4de3-d4fb-248a4d0509a0"
      },
      "execution_count": null,
      "outputs": [
        {
          "output_type": "error",
          "ename": "IndexError",
          "evalue": "ignored",
          "traceback": [
            "\u001b[0;31m---------------------------------------------------------------------------\u001b[0m",
            "\u001b[0;31mIndexError\u001b[0m                                Traceback (most recent call last)",
            "\u001b[0;32m<ipython-input-79-60bec6c97247>\u001b[0m in \u001b[0;36m<module>\u001b[0;34m()\u001b[0m\n\u001b[0;32m----> 1\u001b[0;31m \u001b[0mtestprob\u001b[0m\u001b[0;34m[\u001b[0m\u001b[0;36m2\u001b[0m\u001b[0;34m]\u001b[0m\u001b[0;34m\u001b[0m\u001b[0;34m\u001b[0m\u001b[0m\n\u001b[0m",
            "\u001b[0;31mIndexError\u001b[0m: list index out of range"
          ]
        }
      ]
    },
    {
      "cell_type": "code",
      "source": [],
      "metadata": {
        "id": "sAH9pXqv_BGI"
      },
      "execution_count": null,
      "outputs": []
    },
    {
      "cell_type": "markdown",
      "source": [
        "# Resnet50(6/22) - 1000 train set with four classes(except dance)"
      ],
      "metadata": {
        "id": "8dW5esdRBFOa"
      }
    },
    {
      "cell_type": "code",
      "source": [
        "testpred = []\n",
        "testprob = []\n",
        "for i in range(0, 5):\n",
        "  resnet50 = load_model('/content/drive/MyDrive/musicrecommendation_resent50withoutdance{zero}.h5'.format(zero = i))\n",
        "  prob = resnet50.predict(X_test)\n",
        "  testprob.append(prob)\n",
        "  pred = np.argmax(prob, axis = 1)\n",
        "  testpred.append(pred)"
      ],
      "metadata": {
        "id": "Xwk26d1JIuOr"
      },
      "execution_count": null,
      "outputs": []
    },
    {
      "cell_type": "code",
      "source": [
        "testpred"
      ],
      "metadata": {
        "colab": {
          "base_uri": "https://localhost:8080/"
        },
        "id": "x-klqK9jI1Bu",
        "outputId": "f7d86d62-2e2b-4537-8d9b-243e3c95781a"
      },
      "execution_count": null,
      "outputs": [
        {
          "output_type": "execute_result",
          "data": {
            "text/plain": [
              "[array([3, 0, 0, 0, 0, 0, 0, 3, 3, 0, 1, 0, 0, 0, 3, 0, 0, 0, 0, 0, 0, 0,\n",
              "        0, 2, 0, 1, 0, 0, 0, 0, 0, 1, 1, 3, 1, 1, 1, 1, 2, 3, 3, 1, 1, 1,\n",
              "        1, 2, 2, 2, 2, 2, 2, 1, 3, 2, 2, 1, 1, 3, 1, 1, 2, 2, 2, 2, 2, 2,\n",
              "        2, 2, 2, 2, 2, 3, 2, 2, 2, 2, 2, 2, 2, 2, 2, 2, 2, 2, 3, 2, 2, 3,\n",
              "        3, 1, 3, 3, 3, 3, 3, 3, 3, 1, 1, 1, 3, 3, 0, 1, 3, 3, 3, 3, 3, 3,\n",
              "        3, 3, 0, 2, 2, 1, 0, 3, 0, 1]),\n",
              " array([0, 0, 0, 0, 0, 0, 0, 3, 3, 0, 0, 0, 0, 0, 3, 0, 0, 0, 0, 0, 0, 0,\n",
              "        0, 3, 0, 1, 0, 0, 0, 0, 0, 1, 1, 3, 1, 1, 1, 1, 3, 1, 3, 1, 1, 1,\n",
              "        1, 3, 0, 2, 2, 2, 0, 1, 3, 2, 2, 1, 1, 3, 1, 1, 2, 2, 2, 2, 3, 2,\n",
              "        2, 2, 2, 2, 2, 3, 2, 2, 2, 2, 2, 2, 2, 2, 2, 2, 2, 2, 3, 2, 2, 3,\n",
              "        3, 1, 3, 3, 3, 3, 3, 3, 3, 3, 1, 2, 3, 3, 0, 1, 3, 0, 3, 3, 3, 3,\n",
              "        3, 3, 0, 2, 3, 1, 0, 3, 0, 1]),\n",
              " array([0, 0, 0, 0, 0, 0, 0, 3, 3, 0, 1, 0, 0, 0, 3, 0, 0, 0, 0, 0, 0, 0,\n",
              "        0, 3, 0, 1, 0, 0, 0, 0, 0, 1, 1, 3, 1, 1, 1, 1, 3, 1, 3, 1, 1, 1,\n",
              "        1, 3, 0, 2, 2, 2, 0, 1, 3, 2, 2, 1, 1, 3, 1, 1, 2, 2, 2, 2, 3, 2,\n",
              "        2, 2, 2, 2, 2, 3, 2, 2, 2, 2, 2, 2, 2, 2, 2, 2, 2, 2, 3, 2, 2, 3,\n",
              "        3, 1, 3, 3, 3, 3, 3, 3, 3, 3, 1, 2, 3, 3, 0, 1, 3, 0, 3, 3, 3, 3,\n",
              "        3, 3, 0, 2, 3, 1, 0, 3, 0, 1]),\n",
              " array([0, 0, 0, 0, 0, 0, 0, 3, 3, 0, 1, 0, 0, 0, 3, 0, 0, 0, 0, 0, 0, 0,\n",
              "        0, 3, 0, 1, 0, 0, 0, 0, 0, 1, 1, 3, 1, 1, 1, 1, 3, 1, 3, 1, 1, 1,\n",
              "        1, 3, 0, 2, 2, 2, 0, 1, 3, 2, 2, 1, 1, 3, 1, 1, 2, 2, 2, 2, 3, 2,\n",
              "        2, 2, 2, 2, 2, 3, 2, 2, 2, 2, 2, 2, 2, 2, 2, 2, 2, 2, 3, 2, 2, 3,\n",
              "        3, 1, 3, 3, 3, 3, 3, 3, 3, 3, 1, 2, 3, 3, 0, 1, 3, 0, 3, 3, 3, 3,\n",
              "        3, 3, 0, 2, 3, 1, 0, 3, 0, 1]),\n",
              " array([0, 0, 0, 0, 0, 0, 0, 3, 3, 0, 1, 0, 0, 0, 3, 0, 0, 0, 0, 0, 0, 0,\n",
              "        0, 3, 0, 1, 0, 0, 0, 0, 0, 1, 1, 3, 1, 1, 1, 1, 3, 1, 3, 1, 1, 1,\n",
              "        1, 3, 0, 2, 2, 2, 0, 1, 3, 2, 2, 1, 1, 3, 1, 1, 2, 2, 2, 2, 3, 2,\n",
              "        2, 2, 2, 2, 2, 3, 2, 2, 2, 2, 2, 2, 2, 2, 2, 2, 2, 2, 3, 2, 2, 3,\n",
              "        3, 1, 3, 3, 3, 3, 3, 3, 3, 3, 1, 2, 3, 3, 0, 1, 3, 0, 3, 3, 3, 3,\n",
              "        3, 3, 0, 2, 3, 1, 0, 3, 0, 1])]"
            ]
          },
          "metadata": {},
          "execution_count": 19
        }
      ]
    },
    {
      "cell_type": "code",
      "source": [
        "for i in range(5):\n",
        "  sum = 0\n",
        "  sum_list = []\n",
        "  for j in range(len(testpred[i])):\n",
        "    if testpred[i][j] == y_test[j]:\n",
        "      sum = sum + 1\n",
        "  print(sum / len(testpred[1]) * 100)\n",
        "  sum_list.append(sum / len(testpred[1]) * 100)"
      ],
      "metadata": {
        "colab": {
          "base_uri": "https://localhost:8080/"
        },
        "id": "o-ThLO_NJ-xj",
        "outputId": "e2e6f2bb-b7b3-40d6-f854-51c7c6217fa6"
      },
      "execution_count": null,
      "outputs": [
        {
          "output_type": "stream",
          "name": "stdout",
          "text": [
            "67.5\n",
            "70.0\n",
            "69.16666666666667\n",
            "69.16666666666667\n",
            "69.16666666666667\n"
          ]
        }
      ]
    },
    {
      "cell_type": "code",
      "source": [
        "np.mean(sum_list)"
      ],
      "metadata": {
        "colab": {
          "base_uri": "https://localhost:8080/"
        },
        "id": "RJIZtEieON4U",
        "outputId": "af41d7e2-259a-482a-e94c-6ba0b0f351db"
      },
      "execution_count": null,
      "outputs": [
        {
          "output_type": "execute_result",
          "data": {
            "text/plain": [
              "69.16666666666667"
            ]
          },
          "metadata": {},
          "execution_count": 21
        }
      ]
    },
    {
      "cell_type": "markdown",
      "source": [
        "# Xception (6/22) - 1000 train set without dance"
      ],
      "metadata": {
        "id": "I9tEzMS1Rtsh"
      }
    },
    {
      "cell_type": "code",
      "source": [
        "testpred = []\n",
        "testprob = []\n",
        "for i in range(0, 5):\n",
        "  xception = load_model('/content/drive/Shareddrives/2022-1 KUBIG 음악추천시스템/musicrecommendation_xception{zero}.h5'.format(zero = i))\n",
        "  prob = xception.predict(X_test)\n",
        "  testprob.append(prob)\n",
        "  pred = np.argmax(prob, axis = 1)\n",
        "  testpred.append(pred)"
      ],
      "metadata": {
        "id": "XklG1qNHRyQn"
      },
      "execution_count": null,
      "outputs": []
    },
    {
      "cell_type": "code",
      "source": [
        "testpred"
      ],
      "metadata": {
        "colab": {
          "base_uri": "https://localhost:8080/"
        },
        "id": "TmPbRCmGS7uF",
        "outputId": "d4c4ad00-4e63-47e9-d11d-64694a8fbf55"
      },
      "execution_count": null,
      "outputs": [
        {
          "output_type": "execute_result",
          "data": {
            "text/plain": [
              "[array([0, 0, 0, 0, 0, 0, 0, 2, 2, 0, 0, 0, 0, 0, 0, 0, 0, 0, 0, 0, 0, 0,\n",
              "        0, 0, 0, 0, 0, 3, 0, 0, 0, 1, 1, 1, 1, 1, 1, 1, 2, 1, 1, 1, 1, 1,\n",
              "        1, 2, 2, 3, 3, 1, 2, 1, 3, 2, 2, 1, 1, 0, 1, 1, 2, 2, 2, 2, 2, 2,\n",
              "        3, 2, 2, 2, 2, 3, 2, 2, 2, 2, 2, 2, 2, 2, 2, 2, 2, 2, 1, 2, 2, 2,\n",
              "        3, 2, 3, 3, 3, 0, 3, 3, 3, 2, 1, 3, 3, 1, 0, 3, 3, 1, 1, 2, 2, 2,\n",
              "        0, 3, 2, 2, 2, 1, 0, 3, 0, 0]),\n",
              " array([0, 0, 0, 0, 0, 0, 0, 2, 2, 0, 0, 0, 0, 0, 0, 0, 0, 0, 0, 0, 0, 0,\n",
              "        0, 0, 0, 0, 0, 3, 0, 0, 1, 1, 1, 1, 1, 1, 1, 1, 2, 1, 1, 1, 1, 1,\n",
              "        1, 2, 2, 3, 3, 1, 0, 1, 3, 2, 2, 1, 1, 3, 1, 1, 2, 2, 2, 2, 2, 2,\n",
              "        3, 2, 2, 2, 2, 3, 2, 3, 2, 2, 2, 2, 2, 2, 2, 2, 2, 2, 1, 2, 2, 2,\n",
              "        3, 2, 3, 3, 3, 0, 3, 3, 3, 2, 1, 3, 3, 1, 0, 3, 3, 1, 1, 2, 3, 2,\n",
              "        0, 3, 2, 2, 2, 1, 0, 3, 0, 0]),\n",
              " array([0, 0, 0, 0, 0, 0, 0, 2, 2, 0, 0, 0, 0, 0, 0, 0, 0, 0, 0, 0, 0, 0,\n",
              "        0, 0, 0, 0, 0, 3, 0, 0, 1, 1, 1, 1, 1, 1, 1, 1, 2, 1, 1, 1, 1, 1,\n",
              "        1, 2, 2, 3, 3, 1, 2, 1, 3, 2, 2, 1, 1, 3, 1, 1, 2, 2, 2, 2, 2, 2,\n",
              "        3, 2, 2, 2, 2, 3, 2, 3, 2, 2, 2, 2, 2, 2, 2, 2, 2, 2, 1, 2, 2, 2,\n",
              "        3, 2, 3, 3, 3, 0, 3, 3, 3, 2, 1, 3, 3, 1, 0, 3, 3, 1, 1, 2, 3, 2,\n",
              "        0, 3, 2, 2, 2, 1, 0, 3, 0, 0]),\n",
              " array([0, 0, 0, 0, 0, 0, 0, 2, 2, 0, 0, 0, 0, 0, 0, 0, 0, 0, 0, 0, 0, 0,\n",
              "        0, 0, 0, 0, 0, 3, 0, 0, 1, 1, 1, 1, 1, 1, 1, 1, 2, 1, 1, 1, 1, 1,\n",
              "        1, 2, 2, 3, 3, 1, 2, 1, 3, 2, 2, 1, 1, 3, 1, 1, 2, 2, 2, 2, 2, 2,\n",
              "        3, 2, 2, 2, 2, 3, 2, 3, 2, 2, 2, 2, 2, 2, 2, 2, 2, 2, 1, 2, 2, 2,\n",
              "        3, 2, 3, 3, 3, 0, 3, 3, 3, 2, 1, 3, 3, 1, 0, 3, 3, 1, 1, 2, 3, 2,\n",
              "        0, 3, 2, 2, 2, 1, 0, 3, 0, 0]),\n",
              " array([0, 0, 0, 0, 0, 0, 0, 2, 2, 0, 0, 0, 0, 0, 0, 0, 0, 0, 0, 0, 0, 0,\n",
              "        0, 0, 0, 0, 0, 3, 0, 0, 1, 1, 1, 1, 1, 1, 1, 1, 2, 1, 1, 1, 1, 1,\n",
              "        1, 2, 2, 3, 3, 1, 2, 1, 3, 2, 2, 1, 1, 3, 1, 1, 2, 2, 2, 2, 2, 2,\n",
              "        3, 2, 2, 2, 2, 3, 2, 3, 2, 2, 2, 2, 2, 2, 2, 2, 2, 2, 1, 2, 2, 2,\n",
              "        3, 2, 3, 3, 3, 0, 3, 3, 3, 2, 1, 3, 3, 1, 0, 3, 3, 1, 1, 2, 3, 2,\n",
              "        0, 3, 2, 2, 2, 1, 0, 3, 0, 0])]"
            ]
          },
          "metadata": {},
          "execution_count": 17
        }
      ]
    },
    {
      "cell_type": "code",
      "source": [
        "for i in range(5):\n",
        "  sum = 0\n",
        "  sum_list = []\n",
        "  for j in range(len(testpred[i])):\n",
        "    if testpred[i][j] == y_test[j]:\n",
        "      sum = sum + 1\n",
        "  print(sum / len(testpred[1]) * 100)\n",
        "  sum_list.append(sum / len(testpred[1]) * 100)"
      ],
      "metadata": {
        "colab": {
          "base_uri": "https://localhost:8080/"
        },
        "id": "AmH_uHLtS5nC",
        "outputId": "a08e7aa2-b342-487d-a83b-a10c8aa6f239"
      },
      "execution_count": null,
      "outputs": [
        {
          "output_type": "stream",
          "name": "stdout",
          "text": [
            "70.0\n",
            "70.83333333333334\n",
            "70.83333333333334\n",
            "70.83333333333334\n",
            "70.83333333333334\n"
          ]
        }
      ]
    },
    {
      "cell_type": "code",
      "source": [
        "from sklearn.metrics import accuracy_score, classification_report\n",
        "from sklearn.metrics import confusion_matrix, roc_auc_score, auc\n",
        "import seaborn as sns"
      ],
      "metadata": {
        "id": "2NRvNvafHPQl"
      },
      "execution_count": null,
      "outputs": []
    },
    {
      "cell_type": "code",
      "source": [
        "plt.figure(figsize = (12, 8))\n",
        "roc_auc_ovr = {}\n",
        "auc = []\n",
        "    \n",
        "for i in range(len(classes)):\n",
        "    \n",
        "    temptpr = []\n",
        "    tempfpr = []\n",
        "    \n",
        "    for j in range(5):\n",
        "\n",
        "        c = classes[i]\n",
        "\n",
        "        df_aux = pd.DataFrame(y_test).copy()\n",
        "        df_aux['class'] = [1 if y == c else 0 for y in y_test]\n",
        "        df_aux['prob'] = np.array(testprob)[j][:, i]\n",
        "        df_aux = df_aux.reset_index(drop = True)\n",
        "\n",
        "        ax_bottom = plt.subplot(2, 3, i+2)\n",
        "        tpr, fpr = get_all_roc_coordinates(df_aux['class'], df_aux['prob'])\n",
        "\n",
        "\n",
        "        temptpr.append(tpr)\n",
        "        tempfpr.append(fpr)\n",
        "        \n",
        "        plot_roc_curve_red(tpr, fpr, scatter = False, ax = ax_bottom)\n",
        "        \n",
        "        \n",
        "        ax_bottom.set_title(f\"ROC Curve OvR: {classes_names[c]} vs. Rest\")\n",
        "\n",
        "        auc.append(roc_auc_score(df_aux['class'], df_aux['prob']))\n",
        "    \n",
        "    temptpr = np.array(temptpr)\n",
        "    tempfpr = np.array(tempfpr)\n",
        "    \n",
        "    num = 9 + i * 10\n",
        "    prev = 9 + (i-1)*10\n",
        "    plot_roc_curve_red_2(np.sort(np.array(pd.DataFrame(temptpr).mean())), np.sort(np.array(pd.DataFrame(tempfpr).mean())), scatter = False, ax = ax_bottom)\n",
        "\n",
        "    plt.tight_layout()"
      ],
      "metadata": {
        "colab": {
          "base_uri": "https://localhost:8080/",
          "height": 585
        },
        "id": "4quAKOj-HUlP",
        "outputId": "06a2d70f-9a7a-4883-e37f-f24018b3b9e9"
      },
      "execution_count": null,
      "outputs": [
        {
          "output_type": "display_data",
          "data": {
            "text/plain": [
              "<Figure size 864x576 with 4 Axes>"
            ],
            "image/png": "[encoded data removed]"
          },
          "metadata": {
            "needs_background": "light"
          }
        }
      ]
    },
    {
      "cell_type": "code",
      "source": [
        "totalauc = [np.mean(auc[:5]), np.mean(auc[5:10]), np.mean(auc[10:15]), np.mean(auc[15:20])]\n",
        "np.mean(totalauc)"
      ],
      "metadata": {
        "colab": {
          "base_uri": "https://localhost:8080/"
        },
        "id": "ImOD7k0wIMYg",
        "outputId": "8f6a909b-554c-40f0-d474-c30b4a3401fa"
      },
      "execution_count": null,
      "outputs": [
        {
          "output_type": "execute_result",
          "data": {
            "text/plain": [
              "0.8748333333333335"
            ]
          },
          "metadata": {},
          "execution_count": 24
        }
      ]
    },
    {
      "cell_type": "code",
      "source": [
        "auc"
      ],
      "metadata": {
        "colab": {
          "base_uri": "https://localhost:8080/"
        },
        "id": "F5NMuCGlIMak",
        "outputId": "c444a6e8-2e7b-4ada-b794-8e4b513fdfd4"
      },
      "execution_count": null,
      "outputs": [
        {
          "output_type": "execute_result",
          "data": {
            "text/plain": [
              "[0.9333333333333333,\n",
              " 0.9359259259259259,\n",
              " 0.9355555555555556,\n",
              " 0.9355555555555556,\n",
              " 0.9355555555555556,\n",
              " 0.8837037037037037,\n",
              " 0.8833333333333334,\n",
              " 0.8825925925925926,\n",
              " 0.8825925925925926,\n",
              " 0.8825925925925926,\n",
              " 0.9166666666666667,\n",
              " 0.9118518518518519,\n",
              " 0.91,\n",
              " 0.91,\n",
              " 0.91,\n",
              " 0.7696296296296297,\n",
              " 0.7666666666666666,\n",
              " 0.7703703703703704,\n",
              " 0.7703703703703704,\n",
              " 0.7703703703703704]"
            ]
          },
          "metadata": {},
          "execution_count": 22
        }
      ]
    },
    {
      "cell_type": "code",
      "source": [
        "from sklearn.metrics import precision_recall_fscore_support\n",
        "\n",
        "sens0 = []\n",
        "spec0 = []\n",
        "sens1 = []\n",
        "spec1 = []\n",
        "sens2 = []\n",
        "spec2 = []\n",
        "sens3 = []\n",
        "spec3 = []\n",
        "\n",
        "\n",
        "for i in range(5):\n",
        "    for l in [0, 1, 2, 3]:\n",
        "        prec, recall, _, _ = precision_recall_fscore_support(np.array(y_test) == l, testpred[i] == l, pos_label = True, average = None)\n",
        "        if l == 0:\n",
        "            sens0.append(recall[0])\n",
        "            spec0.append(recall[1])\n",
        "        elif l == 1:\n",
        "            sens1.append(recall[0])\n",
        "            spec1.append(recall[1])\n",
        "        elif l == 2:\n",
        "            sens2.append(recall[0])\n",
        "            spec2.append(recall[1])\n",
        "        elif l == 3:\n",
        "            sens3.append(recall[0])\n",
        "            spec3.append(recall[1])\n",
        "\n",
        "            \n",
        "df = [[np.mean(sens0), np.mean(spec0)], [np.mean(sens1), np.mean(spec1)], [np.mean(sens2), np.mean(spec2)], [np.mean(sens3), np.mean(spec3)]]\n",
        "print(pd.DataFrame(df))\n",
        "print(pd.DataFrame(df).mean(axis=0))"
      ],
      "metadata": {
        "id": "SzV0mcQ6I5hZ",
        "outputId": "c42561e5-2bfa-4065-d0e6-8ec5299c7f16",
        "colab": {
          "base_uri": "https://localhost:8080/"
        }
      },
      "execution_count": null,
      "outputs": [
        {
          "output_type": "stream",
          "name": "stdout",
          "text": [
            "     0    1\n",
            "0 0.93 0.90\n",
            "1 0.93 0.66\n",
            "2 0.84 0.84\n",
            "3 0.90 0.43\n",
            "0   0.90\n",
            "1   0.71\n",
            "dtype: float64\n"
          ]
        }
      ]
    },
    {
      "cell_type": "code",
      "source": [],
      "metadata": {
        "id": "6Dxbk2xQI5c9"
      },
      "execution_count": null,
      "outputs": []
    },
    {
      "cell_type": "code",
      "source": [
        "testprob"
      ],
      "metadata": {
        "id": "oq1vleMVHC6y"
      },
      "execution_count": null,
      "outputs": []
    },
    {
      "cell_type": "code",
      "source": [
        "np.mean(sum_list)"
      ],
      "metadata": {
        "colab": {
          "base_uri": "https://localhost:8080/"
        },
        "id": "FuJ9y7BlH2cZ",
        "outputId": "c5f9ca02-5d87-4b72-f0c2-94dbf72614d9"
      },
      "execution_count": null,
      "outputs": [
        {
          "output_type": "execute_result",
          "data": {
            "text/plain": [
              "70.83333333333334"
            ]
          },
          "metadata": {},
          "execution_count": 23
        }
      ]
    },
    {
      "cell_type": "markdown",
      "source": [
        "# ViT Large32"
      ],
      "metadata": {
        "id": "NChNjJZKY1RT"
      }
    },
    {
      "cell_type": "code",
      "source": [
        "!pip install tensorflow-addons\n"
      ],
      "metadata": {
        "colab": {
          "base_uri": "https://localhost:8080/"
        },
        "id": "4IqfQogz1YX8",
        "outputId": "763f311d-2ac9-43a6-d658-9595535e9f8c"
      },
      "execution_count": null,
      "outputs": [
        {
          "output_type": "stream",
          "name": "stdout",
          "text": [
            "Looking in indexes: https://pypi.org/simple, https://us-python.pkg.dev/colab-wheels/public/simple/\n",
            "Collecting tensorflow-addons\n",
            "  Downloading tensorflow_addons-0.17.1-cp37-cp37m-manylinux_2_17_x86_64.manylinux2014_x86_64.whl (1.1 MB)\n",
            "\u001b[K     |████████████████████████████████| 1.1 MB 5.3 MB/s \n",
            "\u001b[?25hRequirement already satisfied: typeguard>=2.7 in /usr/local/lib/python3.7/dist-packages (from tensorflow-addons) (2.7.1)\n",
            "Requirement already satisfied: packaging in /usr/local/lib/python3.7/dist-packages (from tensorflow-addons) (21.3)\n",
            "Requirement already satisfied: pyparsing!=3.0.5,>=2.0.2 in /usr/local/lib/python3.7/dist-packages (from packaging->tensorflow-addons) (3.0.9)\n",
            "Installing collected packages: tensorflow-addons\n",
            "Successfully installed tensorflow-addons-0.17.1\n"
          ]
        }
      ]
    },
    {
      "cell_type": "code",
      "source": [
        "import tensorflow_hub as hub\n",
        "testpred = []\n",
        "testprob = []\n",
        "for i in range(0, 5):\n",
        "  xasdf = load_model('/content/drive/MyDrive/musicrecommendation_transformerL{zero}.h5'.format(zero = i))\n",
        "  prob = xasdf.predict(X_test)\n",
        "  testprob.append(prob)\n",
        "  pred = np.argmax(prob, axis = 1)\n",
        "  testpred.append(pred)"
      ],
      "metadata": {
        "colab": {
          "base_uri": "https://localhost:8080/",
          "height": 418
        },
        "id": "f7eBBOHuTJTZ",
        "outputId": "3bda146c-93a9-4224-a22d-52a79e40deb8"
      },
      "execution_count": null,
      "outputs": [
        {
          "output_type": "error",
          "ename": "ValueError",
          "evalue": "ignored",
          "traceback": [
            "\u001b[0;31m---------------------------------------------------------------------------\u001b[0m",
            "\u001b[0;31mValueError\u001b[0m                                Traceback (most recent call last)",
            "\u001b[0;32m<ipython-input-16-0db0cc5cce7a>\u001b[0m in \u001b[0;36m<module>\u001b[0;34m()\u001b[0m\n\u001b[1;32m      3\u001b[0m \u001b[0mtestprob\u001b[0m \u001b[0;34m=\u001b[0m \u001b[0;34m[\u001b[0m\u001b[0;34m]\u001b[0m\u001b[0;34m\u001b[0m\u001b[0;34m\u001b[0m\u001b[0m\n\u001b[1;32m      4\u001b[0m \u001b[0;32mfor\u001b[0m \u001b[0mi\u001b[0m \u001b[0;32min\u001b[0m \u001b[0mrange\u001b[0m\u001b[0;34m(\u001b[0m\u001b[0;36m0\u001b[0m\u001b[0;34m,\u001b[0m \u001b[0;36m5\u001b[0m\u001b[0;34m)\u001b[0m\u001b[0;34m:\u001b[0m\u001b[0;34m\u001b[0m\u001b[0;34m\u001b[0m\u001b[0m\n\u001b[0;32m----> 5\u001b[0;31m   \u001b[0mxasdf\u001b[0m \u001b[0;34m=\u001b[0m \u001b[0mload_model\u001b[0m\u001b[0;34m(\u001b[0m\u001b[0;34m'/content/drive/MyDrive/musicrecommendation_transformerL{zero}.h5'\u001b[0m\u001b[0;34m.\u001b[0m\u001b[0mformat\u001b[0m\u001b[0;34m(\u001b[0m\u001b[0mzero\u001b[0m \u001b[0;34m=\u001b[0m \u001b[0mi\u001b[0m\u001b[0;34m)\u001b[0m\u001b[0;34m)\u001b[0m\u001b[0;34m\u001b[0m\u001b[0;34m\u001b[0m\u001b[0m\n\u001b[0m\u001b[1;32m      6\u001b[0m   \u001b[0mprob\u001b[0m \u001b[0;34m=\u001b[0m \u001b[0mxasdf\u001b[0m\u001b[0;34m.\u001b[0m\u001b[0mpredict\u001b[0m\u001b[0;34m(\u001b[0m\u001b[0mX_test\u001b[0m\u001b[0;34m)\u001b[0m\u001b[0;34m\u001b[0m\u001b[0;34m\u001b[0m\u001b[0m\n\u001b[1;32m      7\u001b[0m   \u001b[0mtestprob\u001b[0m\u001b[0;34m.\u001b[0m\u001b[0mappend\u001b[0m\u001b[0;34m(\u001b[0m\u001b[0mprob\u001b[0m\u001b[0;34m)\u001b[0m\u001b[0;34m\u001b[0m\u001b[0;34m\u001b[0m\u001b[0m\n",
            "\u001b[0;32m/usr/local/lib/python3.7/dist-packages/keras/utils/traceback_utils.py\u001b[0m in \u001b[0;36merror_handler\u001b[0;34m(*args, **kwargs)\u001b[0m\n\u001b[1;32m     65\u001b[0m     \u001b[0;32mexcept\u001b[0m \u001b[0mException\u001b[0m \u001b[0;32mas\u001b[0m \u001b[0me\u001b[0m\u001b[0;34m:\u001b[0m  \u001b[0;31m# pylint: disable=broad-except\u001b[0m\u001b[0;34m\u001b[0m\u001b[0;34m\u001b[0m\u001b[0m\n\u001b[1;32m     66\u001b[0m       \u001b[0mfiltered_tb\u001b[0m \u001b[0;34m=\u001b[0m \u001b[0m_process_traceback_frames\u001b[0m\u001b[0;34m(\u001b[0m\u001b[0me\u001b[0m\u001b[0;34m.\u001b[0m\u001b[0m__traceback__\u001b[0m\u001b[0;34m)\u001b[0m\u001b[0;34m\u001b[0m\u001b[0;34m\u001b[0m\u001b[0m\n\u001b[0;32m---> 67\u001b[0;31m       \u001b[0;32mraise\u001b[0m \u001b[0me\u001b[0m\u001b[0;34m.\u001b[0m\u001b[0mwith_traceback\u001b[0m\u001b[0;34m(\u001b[0m\u001b[0mfiltered_tb\u001b[0m\u001b[0;34m)\u001b[0m \u001b[0;32mfrom\u001b[0m \u001b[0;32mNone\u001b[0m\u001b[0;34m\u001b[0m\u001b[0;34m\u001b[0m\u001b[0m\n\u001b[0m\u001b[1;32m     68\u001b[0m     \u001b[0;32mfinally\u001b[0m\u001b[0;34m:\u001b[0m\u001b[0;34m\u001b[0m\u001b[0;34m\u001b[0m\u001b[0m\n\u001b[1;32m     69\u001b[0m       \u001b[0;32mdel\u001b[0m \u001b[0mfiltered_tb\u001b[0m\u001b[0;34m\u001b[0m\u001b[0;34m\u001b[0m\u001b[0m\n",
            "\u001b[0;32m/usr/local/lib/python3.7/dist-packages/keras/utils/generic_utils.py\u001b[0m in \u001b[0;36mclass_and_config_for_serialized_keras_object\u001b[0;34m(config, module_objects, custom_objects, printable_module_name)\u001b[0m\n\u001b[1;32m    561\u001b[0m   \u001b[0;32mif\u001b[0m \u001b[0mcls\u001b[0m \u001b[0;32mis\u001b[0m \u001b[0;32mNone\u001b[0m\u001b[0;34m:\u001b[0m\u001b[0;34m\u001b[0m\u001b[0;34m\u001b[0m\u001b[0m\n\u001b[1;32m    562\u001b[0m     raise ValueError(\n\u001b[0;32m--> 563\u001b[0;31m         \u001b[0;34mf'Unknown {printable_module_name}: {class_name}. Please ensure this '\u001b[0m\u001b[0;34m\u001b[0m\u001b[0;34m\u001b[0m\u001b[0m\n\u001b[0m\u001b[1;32m    564\u001b[0m         \u001b[0;34m'object is passed to the `custom_objects` argument. See '\u001b[0m\u001b[0;34m\u001b[0m\u001b[0;34m\u001b[0m\u001b[0m\n\u001b[1;32m    565\u001b[0m         \u001b[0;34m'https://www.tensorflow.org/guide/keras/save_and_serialize'\u001b[0m\u001b[0;34m\u001b[0m\u001b[0;34m\u001b[0m\u001b[0m\n",
            "\u001b[0;31mValueError\u001b[0m: Unknown layer: Custom>ClassToken. Please ensure this object is passed to the `custom_objects` argument. See https://www.tensorflow.org/guide/keras/save_and_serialize#registering_the_custom_object for details."
          ]
        }
      ]
    },
    {
      "cell_type": "markdown",
      "source": [
        "# Mobilenet"
      ],
      "metadata": {
        "id": "VxiqD0XzBnMK"
      }
    },
    {
      "cell_type": "code",
      "source": [
        "testpred = []\n",
        "testprob = []\n",
        "for i in range(0, 5):\n",
        "  xasdf = load_model('/content/drive/Shareddrives/2022-1 KUBIG 음악추천시스템/musicrecommendation_mobilenetwithoutdance{zero}.h5'.format(zero = i))\n",
        "  prob = xasdf.predict(X_test)\n",
        "  testprob.append(prob)\n",
        "  pred = np.argmax(prob, axis = 1)\n",
        "  testpred.append(pred)"
      ],
      "metadata": {
        "id": "1Aa-wDI1BrwH"
      },
      "execution_count": null,
      "outputs": []
    },
    {
      "cell_type": "code",
      "source": [
        "for i in range(5):\n",
        "  sum = 0\n",
        "  sum_list = []\n",
        "  for j in range(len(testpred[i])):\n",
        "    if testpred[i][j] == y_test[j]:\n",
        "      sum = sum + 1\n",
        "  print(sum / len(testpred[1]) * 100)\n",
        "  sum_list.append(sum / len(testpred[1]) * 100)"
      ],
      "metadata": {
        "colab": {
          "base_uri": "https://localhost:8080/"
        },
        "id": "SD98aBOTCrNI",
        "outputId": "836a7a69-5b75-4793-e62e-cc8e4571395e"
      },
      "execution_count": null,
      "outputs": [
        {
          "output_type": "stream",
          "name": "stdout",
          "text": [
            "66.66666666666666\n",
            "70.0\n",
            "69.16666666666667\n",
            "69.16666666666667\n",
            "69.16666666666667\n"
          ]
        }
      ]
    },
    {
      "cell_type": "code",
      "source": [
        "np.mean(sum_list)"
      ],
      "metadata": {
        "colab": {
          "base_uri": "https://localhost:8080/"
        },
        "id": "DftwjjLIC5tQ",
        "outputId": "df44618c-af0b-4a64-b007-42c56d172d9a"
      },
      "execution_count": null,
      "outputs": [
        {
          "output_type": "execute_result",
          "data": {
            "text/plain": [
              "69.16666666666667"
            ]
          },
          "metadata": {},
          "execution_count": 16
        }
      ]
    },
    {
      "cell_type": "code",
      "source": [
        "testpred"
      ],
      "metadata": {
        "colab": {
          "base_uri": "https://localhost:8080/"
        },
        "id": "BJjfHJn5C650",
        "outputId": "108455f0-6875-413e-ebc4-399fc81ca5be"
      },
      "execution_count": null,
      "outputs": [
        {
          "output_type": "execute_result",
          "data": {
            "text/plain": [
              "[array([0, 0, 0, 0, 0, 0, 0, 3, 2, 0, 0, 0, 0, 0, 0, 0, 0, 0, 0, 0, 0, 0,\n",
              "        0, 2, 0, 3, 0, 2, 0, 0, 1, 1, 1, 1, 1, 1, 1, 2, 2, 1, 1, 1, 1, 2,\n",
              "        1, 2, 2, 1, 3, 2, 0, 1, 3, 2, 2, 1, 2, 3, 1, 1, 2, 2, 2, 2, 2, 2,\n",
              "        2, 2, 1, 2, 2, 2, 2, 2, 2, 2, 2, 2, 2, 2, 2, 2, 2, 2, 1, 2, 2, 2,\n",
              "        3, 2, 3, 3, 0, 3, 0, 3, 3, 2, 3, 2, 1, 3, 0, 1, 0, 1, 1, 2, 3, 2,\n",
              "        3, 2, 0, 2, 2, 1, 0, 3, 0, 3]),\n",
              " array([0, 0, 0, 0, 0, 0, 0, 3, 2, 0, 0, 0, 0, 0, 0, 0, 0, 0, 0, 3, 0, 0,\n",
              "        0, 2, 0, 3, 0, 2, 0, 0, 1, 1, 1, 1, 1, 1, 1, 1, 2, 1, 1, 1, 1, 2,\n",
              "        1, 1, 2, 1, 3, 2, 0, 1, 3, 2, 2, 1, 1, 3, 1, 1, 2, 2, 2, 2, 2, 2,\n",
              "        2, 2, 1, 2, 2, 2, 2, 2, 2, 2, 2, 2, 2, 2, 2, 2, 2, 2, 1, 2, 2, 2,\n",
              "        3, 2, 3, 3, 0, 3, 3, 3, 3, 2, 1, 3, 1, 3, 0, 1, 0, 1, 1, 2, 3, 2,\n",
              "        3, 2, 0, 3, 2, 1, 0, 3, 0, 3]),\n",
              " array([0, 0, 0, 0, 0, 0, 0, 3, 2, 0, 0, 0, 0, 0, 0, 0, 0, 0, 0, 3, 0, 0,\n",
              "        0, 2, 0, 3, 0, 2, 0, 0, 1, 1, 1, 1, 1, 1, 1, 1, 2, 1, 1, 1, 1, 2,\n",
              "        1, 1, 2, 1, 3, 2, 0, 1, 3, 2, 2, 1, 1, 3, 1, 1, 2, 2, 2, 2, 2, 2,\n",
              "        2, 2, 1, 2, 2, 2, 2, 2, 2, 2, 2, 2, 2, 2, 2, 2, 2, 2, 1, 2, 2, 2,\n",
              "        3, 2, 3, 3, 0, 3, 0, 3, 3, 2, 1, 3, 1, 3, 0, 1, 0, 1, 1, 2, 3, 2,\n",
              "        3, 2, 0, 3, 2, 1, 0, 3, 0, 3]),\n",
              " array([0, 0, 0, 0, 0, 0, 0, 3, 2, 0, 0, 0, 0, 0, 0, 0, 0, 0, 0, 3, 0, 0,\n",
              "        0, 2, 0, 3, 0, 2, 0, 0, 1, 1, 1, 1, 1, 1, 1, 1, 2, 1, 1, 1, 1, 2,\n",
              "        1, 1, 2, 1, 3, 2, 0, 1, 3, 2, 2, 1, 1, 3, 1, 1, 2, 2, 2, 2, 2, 2,\n",
              "        2, 2, 1, 2, 2, 2, 2, 2, 2, 2, 2, 2, 2, 2, 2, 2, 2, 2, 1, 2, 2, 2,\n",
              "        3, 2, 3, 3, 0, 3, 0, 3, 3, 2, 1, 3, 1, 3, 0, 1, 0, 1, 1, 2, 3, 2,\n",
              "        3, 2, 0, 3, 2, 1, 0, 3, 0, 3]),\n",
              " array([0, 0, 0, 0, 0, 0, 0, 3, 2, 0, 0, 0, 0, 0, 0, 0, 0, 0, 0, 3, 0, 0,\n",
              "        0, 2, 0, 3, 0, 2, 0, 0, 1, 1, 1, 1, 1, 1, 1, 1, 2, 1, 1, 1, 1, 2,\n",
              "        1, 1, 2, 1, 3, 2, 0, 1, 3, 2, 2, 1, 1, 3, 1, 1, 2, 2, 2, 2, 2, 2,\n",
              "        2, 2, 1, 2, 2, 2, 2, 2, 2, 2, 2, 2, 2, 2, 2, 2, 2, 2, 1, 2, 2, 2,\n",
              "        3, 2, 3, 3, 0, 3, 0, 3, 3, 2, 1, 3, 1, 3, 0, 1, 0, 1, 1, 2, 3, 2,\n",
              "        3, 2, 0, 3, 2, 1, 0, 3, 0, 3])]"
            ]
          },
          "metadata": {},
          "execution_count": 17
        }
      ]
    }
  ]
}